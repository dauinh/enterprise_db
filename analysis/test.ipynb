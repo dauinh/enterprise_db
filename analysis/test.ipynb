{
 "cells": [
  {
   "cell_type": "markdown",
   "metadata": {},
   "source": [
    "### Questions we have asked\n",
    "1. What is the current inventory of a particular store?\n",
    "2. What are the top-selling products at a particular store?\n",
    "3. Which store has the highest total sales revenue?\n",
    "4. What are the 5 stores with the most sales so far this month?\n",
    "5. How many customers are currently enrolled in the frequent-shopper program?\n",
    "6. What is the average order value for online orders compared to in-store purchases?\n",
    "7. Which products have the highest profit margin across all stores?\n",
    "8. How does the sales performance of a particular product compare between different store locations?\n",
    "9. Which store locations have the highest percentage of repeat customers?\n",
    "10. What are the most popular product combinations purchased together by customers?"
   ]
  },
  {
   "cell_type": "markdown",
   "metadata": {},
   "source": [
    "### Import data"
   ]
  },
  {
   "cell_type": "code",
   "execution_count": null,
   "metadata": {},
   "outputs": [],
   "source": [
    "import pandas as pd\n",
    "\n",
    "df = pd.read_csv('../webscrape/data/products.csv')\n",
    "\n",
    "print(df.to_string()) "
   ]
  }
 ],
 "metadata": {
  "kernelspec": {
   "display_name": "env",
   "language": "python",
   "name": "python3"
  },
  "language_info": {
   "codemirror_mode": {
    "name": "ipython",
    "version": 3
   },
   "file_extension": ".py",
   "mimetype": "text/x-python",
   "name": "python",
   "nbconvert_exporter": "python",
   "pygments_lexer": "ipython3",
   "version": "3.12.4"
  }
 },
 "nbformat": 4,
 "nbformat_minor": 2
}
